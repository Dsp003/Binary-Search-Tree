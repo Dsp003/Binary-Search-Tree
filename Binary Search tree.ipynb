{
 "cells": [
  {
   "cell_type": "code",
   "execution_count": 1,
   "metadata": {},
   "outputs": [],
   "source": [
    "import numpy as np"
   ]
  },
  {
   "cell_type": "code",
   "execution_count": 2,
   "metadata": {},
   "outputs": [],
   "source": [
    "class bst:\n",
    "    # Creating a node with two children\n",
    "    def __init__(self, data=None):\n",
    "        self.data = data\n",
    "        self.left = None\n",
    "        self.right = None\n",
    "    \n",
    "    # Inserting elements to the tree\n",
    "    def ins(self, data):\n",
    "        if not(self.data):\n",
    "            self.data = data\n",
    "            return\n",
    "        \n",
    "        if self.data == data:\n",
    "            return\n",
    "        \n",
    "        if data < self.data:\n",
    "            if self.left:\n",
    "                self.left.ins(data)\n",
    "            else:\n",
    "                self.left = bst(data)\n",
    "        else:\n",
    "            if self.right:\n",
    "                self.right.ins(data)\n",
    "            else:\n",
    "                self.right = bst(data)\n",
    "    \n",
    "    # Search if an element is present in the tree\n",
    "    def search(self, val):\n",
    "        if self.data == val:\n",
    "            return True\n",
    "        \n",
    "        if val < self.data:\n",
    "            if self.left:\n",
    "                return self.left.search(val)\n",
    "            else:\n",
    "                return False\n",
    "            \n",
    "        if val > self.data:\n",
    "            if self.right:\n",
    "                return self.right.search(val)\n",
    "            else:\n",
    "                return False\n",
    "    \n",
    "    # finding the smallest element in the tree\n",
    "    def mini(self):\n",
    "        if self.left:\n",
    "            return self.left.mini()\n",
    "        \n",
    "        else:\n",
    "            return self.data\n",
    "    \n",
    "    # finding the largest element in the tree\n",
    "    def maxi(self):\n",
    "        if self.right:\n",
    "            return self.right.maxi()\n",
    "        \n",
    "        else:\n",
    "            return self.data\n",
    "    \n",
    "    # finding sum of all the elements in the tree    \n",
    "    def summ(self):\n",
    "        s = 0\n",
    "        s += self.data\n",
    "        \n",
    "        if self.left:\n",
    "            s += self.left.summ()\n",
    "        \n",
    "        if self.right:\n",
    "            s += self.right.summ()\n",
    "            \n",
    "        return s\n",
    "    \n",
    "    # deleting an element from the tree\n",
    "    def dell(self, val):\n",
    "        if val < self.data:\n",
    "            if self.left:\n",
    "                self.left = self.left.dell(val)\n",
    "                \n",
    "        elif val > self.data:\n",
    "            if self.right:\n",
    "                self.right = self.right.dell(val)\n",
    "                \n",
    "        else:\n",
    "            if (self.left is None) and (self.right is None):\n",
    "                return None\n",
    "            \n",
    "            if self.left is None:\n",
    "                return self.right\n",
    "            \n",
    "            if self.right is None:\n",
    "                return self.left\n",
    "            \n",
    "            m = self.left.maxi()\n",
    "            self.data = m\n",
    "            self.left = self.left.dell(m)\n",
    "        \n",
    "        return self\n",
    "    \n",
    "    # finding the inverse of the tree\n",
    "    def inv(self):\n",
    "        self.left, self.right = self.right, self.left\n",
    "        \n",
    "        if self.left:\n",
    "            self.left.inv()\n",
    "        \n",
    "        if self.right:\n",
    "            self.right.inv()\n",
    "            \n",
    "        #self.left, self.right = self.right, self.left\n",
    "            \n",
    "        return self\n",
    "    \n",
    "    # finding the height/depth of the tree\n",
    "    def depth(self):\n",
    "        dl, dr = 0, 0\n",
    "        \n",
    "        if self.left:\n",
    "            dl += self.left.depth()\n",
    "            \n",
    "        if self.right:\n",
    "            dr += self.right.depth()\n",
    "        \n",
    "        if dl > dr:\n",
    "            return dl+1\n",
    "        \n",
    "        else:\n",
    "            return dr+1\n",
    "    \n",
    "    # display the tree\n",
    "    def disp(self):\n",
    "        el = list()\n",
    "        \n",
    "        #el.append(self.data)  pre-order\n",
    "        \n",
    "        if self.left:\n",
    "            el += self.left.disp()\n",
    "            \n",
    "        el.append(self.data) # in-order\n",
    "        \n",
    "        if self.right:\n",
    "            el += self.right.disp()\n",
    "            \n",
    "        #el.append(self.data)  post-order\n",
    "            \n",
    "        return el"
   ]
  },
  {
   "cell_type": "markdown",
   "metadata": {},
   "source": [
    "### Creating a random dataset"
   ]
  },
  {
   "cell_type": "code",
   "execution_count": 3,
   "metadata": {},
   "outputs": [
    {
     "data": {
      "text/plain": [
       "array([15, 27, 38, 36, 14, 34, 11, 42, 34, 12])"
      ]
     },
     "execution_count": 3,
     "metadata": {},
     "output_type": "execute_result"
    }
   ],
   "source": [
    "ar = np.random.randint(50, size=10)\n",
    "ar"
   ]
  },
  {
   "cell_type": "markdown",
   "metadata": {},
   "source": [
    "### Inserting the elements from array to tree"
   ]
  },
  {
   "cell_type": "code",
   "execution_count": 4,
   "metadata": {},
   "outputs": [
    {
     "data": {
      "text/plain": [
       "[11, 12, 14, 15, 27, 34, 36, 38, 42]"
      ]
     },
     "execution_count": 4,
     "metadata": {},
     "output_type": "execute_result"
    }
   ],
   "source": [
    "tree = bst()\n",
    "for i in ar:\n",
    "    tree.ins(i)\n",
    "tree.disp() #in-order"
   ]
  },
  {
   "cell_type": "markdown",
   "metadata": {},
   "source": [
    "### Searching for elements in the tree"
   ]
  },
  {
   "cell_type": "code",
   "execution_count": 5,
   "metadata": {},
   "outputs": [
    {
     "data": {
      "text/plain": [
       "(True, False)"
      ]
     },
     "execution_count": 5,
     "metadata": {},
     "output_type": "execute_result"
    }
   ],
   "source": [
    "tree.search(15), tree.search(10)"
   ]
  },
  {
   "cell_type": "markdown",
   "metadata": {},
   "source": [
    "### Smallest element in the tree"
   ]
  },
  {
   "cell_type": "code",
   "execution_count": 6,
   "metadata": {},
   "outputs": [
    {
     "data": {
      "text/plain": [
       "11"
      ]
     },
     "execution_count": 6,
     "metadata": {},
     "output_type": "execute_result"
    }
   ],
   "source": [
    "tree.mini()"
   ]
  },
  {
   "cell_type": "markdown",
   "metadata": {},
   "source": [
    "### Largest element in the tree"
   ]
  },
  {
   "cell_type": "code",
   "execution_count": 7,
   "metadata": {},
   "outputs": [
    {
     "data": {
      "text/plain": [
       "42"
      ]
     },
     "execution_count": 7,
     "metadata": {},
     "output_type": "execute_result"
    }
   ],
   "source": [
    "tree.maxi()"
   ]
  },
  {
   "cell_type": "markdown",
   "metadata": {},
   "source": [
    "### Sum of all elements in the tree"
   ]
  },
  {
   "cell_type": "code",
   "execution_count": 8,
   "metadata": {},
   "outputs": [
    {
     "data": {
      "text/plain": [
       "229"
      ]
     },
     "execution_count": 8,
     "metadata": {},
     "output_type": "execute_result"
    }
   ],
   "source": [
    "tree.summ()"
   ]
  },
  {
   "cell_type": "markdown",
   "metadata": {},
   "source": [
    "### Delete an element from the tree"
   ]
  },
  {
   "cell_type": "code",
   "execution_count": 9,
   "metadata": {},
   "outputs": [
    {
     "data": {
      "text/plain": [
       "[11, 14, 15, 27, 34, 36, 38, 42]"
      ]
     },
     "execution_count": 9,
     "metadata": {},
     "output_type": "execute_result"
    }
   ],
   "source": [
    "tree.dell(12)\n",
    "tree.disp()"
   ]
  },
  {
   "cell_type": "markdown",
   "metadata": {},
   "source": [
    "### Inverting the tree"
   ]
  },
  {
   "cell_type": "code",
   "execution_count": 10,
   "metadata": {},
   "outputs": [
    {
     "data": {
      "text/plain": [
       "[42, 38, 36, 34, 27, 15, 14, 11]"
      ]
     },
     "execution_count": 10,
     "metadata": {},
     "output_type": "execute_result"
    }
   ],
   "source": [
    "tree.inv()\n",
    "tree.disp()"
   ]
  },
  {
   "cell_type": "markdown",
   "metadata": {},
   "source": [
    "### Find height / depth of the tree"
   ]
  },
  {
   "cell_type": "code",
   "execution_count": 11,
   "metadata": {},
   "outputs": [
    {
     "data": {
      "text/plain": [
       "5"
      ]
     },
     "execution_count": 11,
     "metadata": {},
     "output_type": "execute_result"
    }
   ],
   "source": [
    "tree.depth()"
   ]
  },
  {
   "cell_type": "code",
   "execution_count": null,
   "metadata": {},
   "outputs": [],
   "source": []
  }
 ],
 "metadata": {
  "kernelspec": {
   "display_name": "Python 3",
   "language": "python",
   "name": "python3"
  },
  "language_info": {
   "codemirror_mode": {
    "name": "ipython",
    "version": 3
   },
   "file_extension": ".py",
   "mimetype": "text/x-python",
   "name": "python",
   "nbconvert_exporter": "python",
   "pygments_lexer": "ipython3",
   "version": "3.7.5"
  }
 },
 "nbformat": 4,
 "nbformat_minor": 4
}
